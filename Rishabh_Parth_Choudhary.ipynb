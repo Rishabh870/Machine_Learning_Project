{
  "nbformat": 4,
  "nbformat_minor": 0,
  "metadata": {
    "colab": {
      "provenance": []
    },
    "kernelspec": {
      "name": "python3",
      "display_name": "Python 3"
    },
    "language_info": {
      "name": "python"
    }
  },
  "cells": [
    {
      "cell_type": "code",
      "execution_count": 2,
      "metadata": {
        "id": "zVwcboGuMp2z"
      },
      "outputs": [],
      "source": [
        "import numpy as np\n",
        "import pandas as pd\n",
        "import sklearn"
      ]
    },
    {
      "cell_type": "code",
      "source": [
        "from sklearn.datasets import load_boston\n",
        "df = load_boston()"
      ],
      "metadata": {
        "id": "t7czudukNOJK"
      },
      "execution_count": null,
      "outputs": []
    },
    {
      "cell_type": "code",
      "source": [
        "df.keys()"
      ],
      "metadata": {
        "id": "xQltu8fbNboW"
      },
      "execution_count": null,
      "outputs": []
    },
    {
      "cell_type": "code",
      "source": [
        "print(df.DESCR)"
      ],
      "metadata": {
        "id": "LqX0FSfWNekP"
      },
      "execution_count": null,
      "outputs": []
    },
    {
      "cell_type": "code",
      "source": [
        "boston = pd.DataFrame(df.data, columns = df.feature_names)\n",
        "boston.head()"
      ],
      "metadata": {
        "id": "8xYlWjY8N5aF"
      },
      "execution_count": null,
      "outputs": []
    },
    {
      "cell_type": "code",
      "source": [
        "boston['MEDV'] = df.target\n",
        "boston.head()"
      ],
      "metadata": {
        "id": "c_4gMPcAOfpZ"
      },
      "execution_count": null,
      "outputs": []
    },
    {
      "cell_type": "code",
      "source": [
        "boston.isnull()"
      ],
      "metadata": {
        "id": "lVJfV_irO4ls"
      },
      "execution_count": null,
      "outputs": []
    },
    {
      "cell_type": "code",
      "source": [
        "boston.isnull().sum()"
      ],
      "metadata": {
        "id": "lozKlnQ7Ptc3"
      },
      "execution_count": null,
      "outputs": []
    },
    {
      "cell_type": "code",
      "source": [
        "from sklearn.model_selection import train_test_split\n",
        "X = boston.drop('MEDV',axis = 1)\n",
        "Y = boston['MEDV']\n",
        "X_train, X_test, Y_train, Y_test = train_test_split(X,Y,test_size = 0.15,random_state = 5)\n",
        "\n",
        "print(X_train.shape)\n",
        "print(X_test.shape)\n",
        "print(Y_train.shape)\n",
        "print(Y_test.shape)"
      ],
      "metadata": {
        "id": "_SoOoELHP28l"
      },
      "execution_count": null,
      "outputs": []
    },
    {
      "cell_type": "code",
      "source": [
        "from sklearn.linear_model import LinearRegression\n",
        "from sklearn.metrics import mean_squared_error"
      ],
      "metadata": {
        "id": "xpB_cfZ3Q6C5"
      },
      "execution_count": 15,
      "outputs": []
    },
    {
      "cell_type": "code",
      "source": [
        "lin_model = LinearRegression()\n",
        "lin_model.fit(X_train,Y_train)"
      ],
      "metadata": {
        "id": "v6MSUJ4gQ9BI"
      },
      "execution_count": null,
      "outputs": []
    },
    {
      "cell_type": "code",
      "source": [
        "y_predict = lin_model.predict(X_train)\n",
        "rmse = (np.sqrt(mean_squared_error(Y_train, y_predict)))\n",
        "\n",
        "print(\"Model performance for training set\")\n",
        "print('RMSE is {}'.format(rmse))\n",
        "print(\"\\n\")\n",
        "\n",
        "y_test_predict = lin_model.predict(X_test)\n",
        "rmse = (np.sqrt(mean_squared_error(Y_test, y_test_predict)))\n",
        "print(\"Model performance for test set\")\n",
        "print('RMSE is {}'.format(rmse))"
      ],
      "metadata": {
        "colab": {
          "base_uri": "https://localhost:8080/"
        },
        "id": "RIGQHG50Rwqa",
        "outputId": "4b509f5f-0095-4900-ac31-cf2458e21921"
      },
      "execution_count": 18,
      "outputs": [
        {
          "output_type": "stream",
          "name": "stdout",
          "text": [
            "Model performance for training set\n",
            "RMSE is 4.710901797319796\n",
            "\n",
            "\n",
            "Model performance for test set\n",
            "RMSE is 4.687543527902972\n"
          ]
        }
      ]
    }
  ]
}